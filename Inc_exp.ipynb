{
  "metadata": {
    "kernelspec": {
      "name": "python",
      "display_name": "Python (Pyodide)",
      "language": "python"
    },
    "language_info": {
      "codemirror_mode": {
        "name": "python",
        "version": 3
      },
      "file_extension": ".py",
      "mimetype": "text/x-python",
      "name": "python",
      "nbconvert_exporter": "python",
      "pygments_lexer": "ipython3",
      "version": "3.8"
    }
  },
  "nbformat_minor": 4,
  "nbformat": 4,
  "cells": [
    {
      "cell_type": "code",
      "source": "#import necessary packages",
      "metadata": {
        "trusted": true
      },
      "outputs": [],
      "execution_count": 34
    },
    {
      "cell_type": "code",
      "source": "import pandas as pd\nimport numpy as np\nimport matplotlib as mpl\nimport os",
      "metadata": {
        "trusted": true
      },
      "outputs": [],
      "execution_count": 33
    },
    {
      "cell_type": "code",
      "source": "#Load the file",
      "metadata": {
        "trusted": true
      },
      "outputs": [],
      "execution_count": 35
    },
    {
      "cell_type": "code",
      "source": "inc_exp = pd.read_csv('Inc_Exp_Data.csv')",
      "metadata": {
        "trusted": true
      },
      "outputs": [],
      "execution_count": 4
    },
    {
      "cell_type": "code",
      "source": "#Analyze the data",
      "metadata": {
        "trusted": true
      },
      "outputs": [],
      "execution_count": 36
    },
    {
      "cell_type": "code",
      "source": "inc_exp.shape",
      "metadata": {
        "trusted": true
      },
      "outputs": [
        {
          "execution_count": 9,
          "output_type": "execute_result",
          "data": {
            "text/plain": "(50, 7)"
          },
          "metadata": {}
        }
      ],
      "execution_count": 9
    },
    {
      "cell_type": "code",
      "source": "inc_exp.head(10)",
      "metadata": {
        "trusted": true
      },
      "outputs": [
        {
          "execution_count": 5,
          "output_type": "execute_result",
          "data": {
            "text/plain": "   Mthly_HH_Income  Mthly_HH_Expense  No_of_Fly_Members  Emi_or_Rent_Amt  \\\n0             5000              8000                  3             2000   \n1             6000              7000                  2             3000   \n2            10000              4500                  2                0   \n3            10000              2000                  1                0   \n4            12500             12000                  2             3000   \n5            14000              8000                  2                0   \n6            15000             16000                  3            35000   \n7            18000             20000                  5             8000   \n8            19000              9000                  2                0   \n9            20000              9000                  4                0   \n\n   Annual_HH_Income Highest_Qualified_Member  No_of_Earning_Members  \n0             64200           Under-Graduate                      1  \n1             79920               Illiterate                      1  \n2            112800           Under-Graduate                      1  \n3             97200               Illiterate                      1  \n4            147000                 Graduate                      1  \n5            196560                 Graduate                      1  \n6            167400            Post-Graduate                      1  \n7            216000                 Graduate                      1  \n8            218880           Under-Graduate                      1  \n9            220800           Under-Graduate                      2  ",
            "text/html": "<div>\n<style scoped>\n    .dataframe tbody tr th:only-of-type {\n        vertical-align: middle;\n    }\n\n    .dataframe tbody tr th {\n        vertical-align: top;\n    }\n\n    .dataframe thead th {\n        text-align: right;\n    }\n</style>\n<table border=\"1\" class=\"dataframe\">\n  <thead>\n    <tr style=\"text-align: right;\">\n      <th></th>\n      <th>Mthly_HH_Income</th>\n      <th>Mthly_HH_Expense</th>\n      <th>No_of_Fly_Members</th>\n      <th>Emi_or_Rent_Amt</th>\n      <th>Annual_HH_Income</th>\n      <th>Highest_Qualified_Member</th>\n      <th>No_of_Earning_Members</th>\n    </tr>\n  </thead>\n  <tbody>\n    <tr>\n      <th>0</th>\n      <td>5000</td>\n      <td>8000</td>\n      <td>3</td>\n      <td>2000</td>\n      <td>64200</td>\n      <td>Under-Graduate</td>\n      <td>1</td>\n    </tr>\n    <tr>\n      <th>1</th>\n      <td>6000</td>\n      <td>7000</td>\n      <td>2</td>\n      <td>3000</td>\n      <td>79920</td>\n      <td>Illiterate</td>\n      <td>1</td>\n    </tr>\n    <tr>\n      <th>2</th>\n      <td>10000</td>\n      <td>4500</td>\n      <td>2</td>\n      <td>0</td>\n      <td>112800</td>\n      <td>Under-Graduate</td>\n      <td>1</td>\n    </tr>\n    <tr>\n      <th>3</th>\n      <td>10000</td>\n      <td>2000</td>\n      <td>1</td>\n      <td>0</td>\n      <td>97200</td>\n      <td>Illiterate</td>\n      <td>1</td>\n    </tr>\n    <tr>\n      <th>4</th>\n      <td>12500</td>\n      <td>12000</td>\n      <td>2</td>\n      <td>3000</td>\n      <td>147000</td>\n      <td>Graduate</td>\n      <td>1</td>\n    </tr>\n    <tr>\n      <th>5</th>\n      <td>14000</td>\n      <td>8000</td>\n      <td>2</td>\n      <td>0</td>\n      <td>196560</td>\n      <td>Graduate</td>\n      <td>1</td>\n    </tr>\n    <tr>\n      <th>6</th>\n      <td>15000</td>\n      <td>16000</td>\n      <td>3</td>\n      <td>35000</td>\n      <td>167400</td>\n      <td>Post-Graduate</td>\n      <td>1</td>\n    </tr>\n    <tr>\n      <th>7</th>\n      <td>18000</td>\n      <td>20000</td>\n      <td>5</td>\n      <td>8000</td>\n      <td>216000</td>\n      <td>Graduate</td>\n      <td>1</td>\n    </tr>\n    <tr>\n      <th>8</th>\n      <td>19000</td>\n      <td>9000</td>\n      <td>2</td>\n      <td>0</td>\n      <td>218880</td>\n      <td>Under-Graduate</td>\n      <td>1</td>\n    </tr>\n    <tr>\n      <th>9</th>\n      <td>20000</td>\n      <td>9000</td>\n      <td>4</td>\n      <td>0</td>\n      <td>220800</td>\n      <td>Under-Graduate</td>\n      <td>2</td>\n    </tr>\n  </tbody>\n</table>\n</div>"
          },
          "metadata": {}
        }
      ],
      "execution_count": 5
    },
    {
      "cell_type": "code",
      "source": "#What is the Mean Expense of a Household?",
      "metadata": {
        "trusted": true
      },
      "outputs": [],
      "execution_count": null
    },
    {
      "cell_type": "code",
      "source": "inc_exp.Mthly_HH_Expense.mean()",
      "metadata": {
        "trusted": true
      },
      "outputs": [
        {
          "execution_count": 6,
          "output_type": "execute_result",
          "data": {
            "text/plain": "18818.0"
          },
          "metadata": {}
        }
      ],
      "execution_count": 6
    },
    {
      "cell_type": "code",
      "source": "#What is the Median Expense of a Household?",
      "metadata": {
        "trusted": true
      },
      "outputs": [],
      "execution_count": null
    },
    {
      "cell_type": "code",
      "source": "inc_exp.Mthly_HH_Expense.median()",
      "metadata": {
        "trusted": true
      },
      "outputs": [
        {
          "execution_count": 7,
          "output_type": "execute_result",
          "data": {
            "text/plain": "15500.0"
          },
          "metadata": {}
        }
      ],
      "execution_count": 7
    },
    {
      "cell_type": "code",
      "source": "#What is the Monthly Expense for most of the Households?",
      "metadata": {
        "trusted": true
      },
      "outputs": [],
      "execution_count": null
    },
    {
      "cell_type": "code",
      "source": "inc_exp.Mthly_HH_Expense.value_counts()",
      "metadata": {
        "trusted": true
      },
      "outputs": [
        {
          "execution_count": 17,
          "output_type": "execute_result",
          "data": {
            "text/plain": "25000    8\n20000    6\n10000    5\n15000    3\n9000     3\n8000     3\n12000    3\n50000    2\n40000    2\n16000    1\n48000    1\n45000    1\n22000    1\n19000    1\n4500     1\n13000    1\n6600     1\n12300    1\n7000     1\n10500    1\n5000     1\n2000     1\n18000    1\n30000    1\nName: Mthly_HH_Expense, dtype: int64"
          },
          "metadata": {}
        }
      ],
      "execution_count": 17
    },
    {
      "cell_type": "code",
      "source": "mth_exp_tmp = pd.crosstab(index=inc_exp[\"Mthly_HH_Expense\"], columns=\"count\")\nmth_exp_tmp.reset_index(inplace=True)\nmth_exp_tmp[mth_exp_tmp['count'] == inc_exp.Mthly_HH_Expense.value_counts().max()]",
      "metadata": {
        "trusted": true
      },
      "outputs": [
        {
          "execution_count": 19,
          "output_type": "execute_result",
          "data": {
            "text/plain": "col_0  Mthly_HH_Expense  count\n18                25000      8",
            "text/html": "<div>\n<style scoped>\n    .dataframe tbody tr th:only-of-type {\n        vertical-align: middle;\n    }\n\n    .dataframe tbody tr th {\n        vertical-align: top;\n    }\n\n    .dataframe thead th {\n        text-align: right;\n    }\n</style>\n<table border=\"1\" class=\"dataframe\">\n  <thead>\n    <tr style=\"text-align: right;\">\n      <th>col_0</th>\n      <th>Mthly_HH_Expense</th>\n      <th>count</th>\n    </tr>\n  </thead>\n  <tbody>\n    <tr>\n      <th>18</th>\n      <td>25000</td>\n      <td>8</td>\n    </tr>\n  </tbody>\n</table>\n</div>"
          },
          "metadata": {}
        }
      ],
      "execution_count": 19
    },
    {
      "cell_type": "code",
      "source": "#Plot the Histogram to count the Highest qualified member",
      "metadata": {
        "trusted": true
      },
      "outputs": [],
      "execution_count": null
    },
    {
      "cell_type": "code",
      "source": "inc_exp['Highest_Qualified_Member'].value_counts().plot(kind='bar')",
      "metadata": {
        "trusted": true
      },
      "outputs": [
        {
          "execution_count": 27,
          "output_type": "execute_result",
          "data": {
            "text/plain": "<AxesSubplot:>"
          },
          "metadata": {}
        },
        {
          "output_type": "display_data",
          "data": {
            "text/plain": "<Figure size 640x480 with 1 Axes>",
            "image/png": "[encoded data removed]"
          },
          "metadata": {}
        }
      ],
      "execution_count": 27
    },
    {
      "cell_type": "code",
      "source": "#Calculate IQR(difference between 75% and 25% quartile) for monthly income",
      "metadata": {
        "trusted": true
      },
      "outputs": [],
      "execution_count": null
    },
    {
      "cell_type": "code",
      "source": "IQR = inc_exp[\"Mthly_HH_Income\"].quantile(0.75) - inc_exp[\"Mthly_HH_Income\"].quantile(0.25)\nIQR",
      "metadata": {
        "trusted": true
      },
      "outputs": [
        {
          "execution_count": 28,
          "output_type": "execute_result",
          "data": {
            "text/plain": "26825.0"
          },
          "metadata": {}
        }
      ],
      "execution_count": 28
    },
    {
      "cell_type": "code",
      "source": "#Calculate Standard Deviation for first 4 columns.",
      "metadata": {
        "trusted": true
      },
      "outputs": [],
      "execution_count": null
    },
    {
      "cell_type": "code",
      "source": "pd.DataFrame(inc_exp.iloc[:,0:4].std().to_frame().T)",
      "metadata": {
        "trusted": true
      },
      "outputs": [
        {
          "execution_count": 40,
          "output_type": "execute_result",
          "data": {
            "text/plain": "   Mthly_HH_Income  Mthly_HH_Expense  No_of_Fly_Members  Emi_or_Rent_Amt\n0     26097.908979      12090.216824           1.517382      6241.434948",
            "text/html": "<div>\n<style scoped>\n    .dataframe tbody tr th:only-of-type {\n        vertical-align: middle;\n    }\n\n    .dataframe tbody tr th {\n        vertical-align: top;\n    }\n\n    .dataframe thead th {\n        text-align: right;\n    }\n</style>\n<table border=\"1\" class=\"dataframe\">\n  <thead>\n    <tr style=\"text-align: right;\">\n      <th></th>\n      <th>Mthly_HH_Income</th>\n      <th>Mthly_HH_Expense</th>\n      <th>No_of_Fly_Members</th>\n      <th>Emi_or_Rent_Amt</th>\n    </tr>\n  </thead>\n  <tbody>\n    <tr>\n      <th>0</th>\n      <td>26097.908979</td>\n      <td>12090.216824</td>\n      <td>1.517382</td>\n      <td>6241.434948</td>\n    </tr>\n  </tbody>\n</table>\n</div>"
          },
          "metadata": {}
        }
      ],
      "execution_count": 40
    },
    {
      "cell_type": "code",
      "source": "#Calculate Variance for first 3 columns",
      "metadata": {
        "trusted": true
      },
      "outputs": [],
      "execution_count": null
    },
    {
      "cell_type": "code",
      "source": "pd.DataFrame(inc_exp.iloc[:, :3].var().to_frame().T)",
      "metadata": {
        "trusted": true
      },
      "outputs": [
        {
          "execution_count": 41,
          "output_type": "execute_result",
          "data": {
            "text/plain": "   Mthly_HH_Income  Mthly_HH_Expense  No_of_Fly_Members\n0     6.811009e+08      1.461733e+08           2.302449",
            "text/html": "<div>\n<style scoped>\n    .dataframe tbody tr th:only-of-type {\n        vertical-align: middle;\n    }\n\n    .dataframe tbody tr th {\n        vertical-align: top;\n    }\n\n    .dataframe thead th {\n        text-align: right;\n    }\n</style>\n<table border=\"1\" class=\"dataframe\">\n  <thead>\n    <tr style=\"text-align: right;\">\n      <th></th>\n      <th>Mthly_HH_Income</th>\n      <th>Mthly_HH_Expense</th>\n      <th>No_of_Fly_Members</th>\n    </tr>\n  </thead>\n  <tbody>\n    <tr>\n      <th>0</th>\n      <td>6.811009e+08</td>\n      <td>1.461733e+08</td>\n      <td>2.302449</td>\n    </tr>\n  </tbody>\n</table>\n</div>"
          },
          "metadata": {}
        }
      ],
      "execution_count": 41
    },
    {
      "cell_type": "code",
      "source": "#Calculate the count of Highest qualified member",
      "metadata": {
        "trusted": true
      },
      "outputs": [],
      "execution_count": null
    },
    {
      "cell_type": "code",
      "source": "pd.DataFrame(inc_exp['Highest_Qualified_Member'].value_counts().to_frame()).T",
      "metadata": {
        "trusted": true
      },
      "outputs": [
        {
          "execution_count": 31,
          "output_type": "execute_result",
          "data": {
            "text/plain": "                          Graduate  Under-Graduate  Professional  \\\nHighest_Qualified_Member        19              10            10   \n\n                          Post-Graduate  Illiterate  \nHighest_Qualified_Member              6           5  ",
            "text/html": "<div>\n<style scoped>\n    .dataframe tbody tr th:only-of-type {\n        vertical-align: middle;\n    }\n\n    .dataframe tbody tr th {\n        vertical-align: top;\n    }\n\n    .dataframe thead th {\n        text-align: right;\n    }\n</style>\n<table border=\"1\" class=\"dataframe\">\n  <thead>\n    <tr style=\"text-align: right;\">\n      <th></th>\n      <th>Graduate</th>\n      <th>Under-Graduate</th>\n      <th>Professional</th>\n      <th>Post-Graduate</th>\n      <th>Illiterate</th>\n    </tr>\n  </thead>\n  <tbody>\n    <tr>\n      <th>Highest_Qualified_Member</th>\n      <td>19</td>\n      <td>10</td>\n      <td>10</td>\n      <td>6</td>\n      <td>5</td>\n    </tr>\n  </tbody>\n</table>\n</div>"
          },
          "metadata": {}
        }
      ],
      "execution_count": 31
    },
    {
      "cell_type": "code",
      "source": "#Plot the Histogram to count the No_of_Earning_Members",
      "metadata": {
        "trusted": true
      },
      "outputs": [],
      "execution_count": 42
    },
    {
      "cell_type": "code",
      "source": "inc_exp['No_of_Earning_Members'].value_counts().plot(kind='bar')",
      "metadata": {
        "trusted": true
      },
      "outputs": [
        {
          "execution_count": 32,
          "output_type": "execute_result",
          "data": {
            "text/plain": "<AxesSubplot:>"
          },
          "metadata": {}
        },
        {
          "output_type": "display_data",
          "data": {
            "text/plain": "<Figure size 640x480 with 1 Axes>",
            "image/png": "[encoded data removed]"
          },
          "metadata": {}
        }
      ],
      "execution_count": 32
    },
    {
      "cell_type": "code",
      "source": "#The Better Investment",
      "metadata": {
        "trusted": true
      },
      "outputs": [],
      "execution_count": 43
    },
    {
      "cell_type": "code",
      "source": "''' Stock A would be the best investment '''",
      "metadata": {
        "trusted": true
      },
      "outputs": [
        {
          "execution_count": 45,
          "output_type": "execute_result",
          "data": {
            "text/plain": "' Stock A would be the best investment '"
          },
          "metadata": {}
        }
      ],
      "execution_count": 45
    },
    {
      "cell_type": "code",
      "source": "",
      "metadata": {
        "trusted": true
      },
      "outputs": [],
      "execution_count": null
    }
  ]
}